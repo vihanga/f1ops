{
 "cells": [
  {
   "cell_type": "markdown",
   "metadata": {},
   "source": [
    "# F1Ops Cost & Emissions Analysis\n",
    "\n",
    "This notebook explores the cost structure and environmental impact of F1 team logistics.\n",
    "\n",
    "**Version**: 0.1 (Feb 2020)\n",
    "**Focus**: Road freight analysis"
   ]
  },
  {
   "cell_type": "code",
   "execution_count": null,
   "metadata": {},
   "outputs": [],
   "source": [
    "import sys\n",
    "sys.path.insert(0, '../src')\n",
    "\n",
    "import pandas as pd\n",
    "import numpy as np\n",
    "import matplotlib.pyplot as plt\n",
    "import seaborn as sns\n",
    "\n",
    "from f1ops.data_loader import get_european_races\n",
    "from f1ops.geo import build_season_legs\n",
    "from f1ops.cost import calculate_leg_cost, calculate_season_cost, estimate_travel_hours\n",
    "from f1ops.emissions import calculate_leg_emissions, calculate_season_emissions\n",
    "from f1ops.config import DEFAULT_COST_PARAMS, DEFAULT_EMISSIONS_PARAMS\n",
    "\n",
    "%matplotlib inline\n",
    "sns.set_style('whitegrid')"
   ]
  },
  {
   "cell_type": "markdown",
   "metadata": {},
   "source": [
    "## 1. Cost Model Parameters\n",
    "\n",
    "Our cost model includes multiple components:\n",
    "- **Fuel**: Diesel consumption based on distance\n",
    "- **Labor**: Driver wages (2 drivers per truck)\n",
    "- **Tolls**: Road usage fees\n",
    "- **Fixed**: Administrative, permits, insurance"
   ]
  },
  {
   "cell_type": "code",
   "execution_count": null,
   "metadata": {},
   "outputs": [],
   "source": [
    "# Display default parameters\n",
    "params = DEFAULT_COST_PARAMS\n",
    "\n",
    "print(\"Fleet Configuration:\")\n",
    "print(f\"  Number of trucks:    {params['num_trucks']}\")\n",
    "print(f\"\\nFuel Parameters:\")\n",
    "print(f\"  Consumption:         {params['fuel_consumption_per_100km']} L/100km\")\n",
    "print(f\"  Price:               €{params['fuel_price_per_liter']:.2f}/L\")\n",
    "print(f\"\\nLabor Parameters:\")\n",
    "print(f\"  Drivers per truck:   {params['drivers_per_truck']}\")\n",
    "print(f\"  Wage:                €{params['driver_wage_per_hour']:.2f}/hour\")\n",
    "print(f\"  Average speed:       {params['average_speed_kmh']} km/h\")\n",
    "print(f\"\\nOther Costs:\")\n",
    "print(f\"  Toll rate:           €{params['toll_rate_per_km']:.2f}/km per truck\")\n",
    "print(f\"  Fixed cost per leg:  €{params['fixed_cost_per_leg']:.2f}\")"
   ]
  },
  {
   "cell_type": "markdown",
   "metadata": {},
   "source": [
    "## 2. Load 2019 Season Data"
   ]
  },
  {
   "cell_type": "code",
   "execution_count": null,
   "metadata": {},
   "outputs": [],
   "source": [
    "races_2019 = get_european_races(2019)\n",
    "legs = build_season_legs(races_2019)\n",
    "\n",
    "print(f\"Loaded {len(races_2019)} races, {len(legs)} legs\")"
   ]
  },
  {
   "cell_type": "markdown",
   "metadata": {},
   "source": [
    "## 3. Calculate Costs for Each Leg"
   ]
  },
  {
   "cell_type": "code",
   "execution_count": null,
   "metadata": {},
   "outputs": [],
   "source": [
    "# Calculate costs\n",
    "leg_data = []\n",
    "\n",
    "for leg in legs:\n",
    "    cost = calculate_leg_cost(leg, params)\n",
    "    leg_data.append({\n",
    "        'leg_name': leg.leg_name,\n",
    "        'distance_km': leg.distance_km,\n",
    "        'fuel_cost': cost.fuel_cost_eur,\n",
    "        'labor_cost': cost.labor_cost_eur,\n",
    "        'toll_cost': cost.toll_cost_eur,\n",
    "        'fixed_cost': cost.fixed_cost_eur,\n",
    "        'total_cost': cost.total_cost_eur\n",
    "    })\n",
    "\n",
    "df_costs = pd.DataFrame(leg_data)\n",
    "df_costs.head(10)"
   ]
  },
  {
   "cell_type": "markdown",
   "metadata": {},
   "source": [
    "## 4. Cost Component Breakdown"
   ]
  },
  {
   "cell_type": "code",
   "execution_count": null,
   "metadata": {},
   "outputs": [],
   "source": [
    "# Aggregate costs\n",
    "total_fuel = df_costs['fuel_cost'].sum()\n",
    "total_labor = df_costs['labor_cost'].sum()\n",
    "total_toll = df_costs['toll_cost'].sum()\n",
    "total_fixed = df_costs['fixed_cost'].sum()\n",
    "total_cost = df_costs['total_cost'].sum()\n",
    "\n",
    "print(\"2019 Season Cost Breakdown:\")\n",
    "print(f\"  Fuel:       €{total_fuel:>12,.2f}  ({total_fuel/total_cost*100:5.1f}%)\")\n",
    "print(f\"  Labor:      €{total_labor:>12,.2f}  ({total_labor/total_cost*100:5.1f}%)\")\n",
    "print(f\"  Tolls:      €{total_toll:>12,.2f}  ({total_toll/total_cost*100:5.1f}%)\")\n",
    "print(f\"  Fixed:      €{total_fixed:>12,.2f}  ({total_fixed/total_cost*100:5.1f}%)\")\n",
    "print(f\"  {'─'*40}\")\n",
    "print(f\"  TOTAL:      €{total_cost:>12,.2f}\")"
   ]
  },
  {
   "cell_type": "code",
   "execution_count": null,
   "metadata": {},
   "outputs": [],
   "source": [
    "# Pie chart of cost components\n",
    "costs = [total_fuel, total_labor, total_toll, total_fixed]\n",
    "labels = ['Fuel', 'Labor', 'Tolls', 'Fixed']\n",
    "colors = ['#ff9999', '#66b3ff', '#99ff99', '#ffcc99']\n",
    "\n",
    "plt.figure(figsize=(10, 7))\n",
    "plt.pie(costs, labels=labels, colors=colors, autopct='%1.1f%%', startangle=90)\n",
    "plt.title('Cost Component Distribution - 2019 Season', fontsize=14, fontweight='bold')\n",
    "plt.axis('equal')\n",
    "plt.show()"
   ]
  },
  {
   "cell_type": "markdown",
   "metadata": {},
   "source": [
    "## 5. Cost per Leg Analysis"
   ]
  },
  {
   "cell_type": "code",
   "execution_count": null,
   "metadata": {},
   "outputs": [],
   "source": [
    "# Bar chart of costs per leg\n",
    "fig, ax = plt.subplots(figsize=(14, 6))\n",
    "\n",
    "x = np.arange(len(df_costs))\n",
    "width = 0.6\n",
    "\n",
    "# Stacked bar chart\n",
    "ax.bar(x, df_costs['fuel_cost'], width, label='Fuel', color='#ff9999')\n",
    "ax.bar(x, df_costs['labor_cost'], width, bottom=df_costs['fuel_cost'], label='Labor', color='#66b3ff')\n",
    "ax.bar(x, df_costs['toll_cost'], width, \n",
    "       bottom=df_costs['fuel_cost'] + df_costs['labor_cost'], label='Tolls', color='#99ff99')\n",
    "ax.bar(x, df_costs['fixed_cost'], width,\n",
    "       bottom=df_costs['fuel_cost'] + df_costs['labor_cost'] + df_costs['toll_cost'],\n",
    "       label='Fixed', color='#ffcc99')\n",
    "\n",
    "ax.set_xlabel('Leg Number')\n",
    "ax.set_ylabel('Cost (EUR)')\n",
    "ax.set_title('Cost Breakdown by Leg')\n",
    "ax.set_xticks(x)\n",
    "ax.set_xticklabels([f'{i+1}' for i in range(len(df_costs))])\n",
    "ax.legend()\n",
    "ax.grid(True, alpha=0.3, axis='y')\n",
    "\n",
    "plt.tight_layout()\n",
    "plt.show()"
   ]
  },
  {
   "cell_type": "markdown",
   "metadata": {},
   "source": [
    "## 6. Cost vs Distance Correlation"
   ]
  },
  {
   "cell_type": "code",
   "execution_count": null,
   "metadata": {},
   "outputs": [],
   "source": [
    "plt.figure(figsize=(10, 6))\n",
    "plt.scatter(df_costs['distance_km'], df_costs['total_cost'], s=100, alpha=0.6)\n",
    "\n",
    "# Add trend line\n",
    "z = np.polyfit(df_costs['distance_km'], df_costs['total_cost'], 1)\n",
    "p = np.poly1d(z)\n",
    "plt.plot(df_costs['distance_km'], p(df_costs['distance_km']), \"r--\", alpha=0.8, linewidth=2)\n",
    "\n",
    "plt.xlabel('Distance (km)')\n",
    "plt.ylabel('Total Cost (EUR)')\n",
    "plt.title('Cost vs Distance Relationship')\n",
    "plt.grid(True, alpha=0.3)\n",
    "plt.tight_layout()\n",
    "plt.show()\n",
    "\n",
    "# Calculate correlation\n",
    "correlation = df_costs['distance_km'].corr(df_costs['total_cost'])\n",
    "print(f\"Correlation coefficient: {correlation:.3f}\")"
   ]
  },
  {
   "cell_type": "markdown",
   "metadata": {},
   "source": [
    "## 7. Emissions Analysis"
   ]
  },
  {
   "cell_type": "code",
   "execution_count": null,
   "metadata": {},
   "outputs": [],
   "source": [
    "emissions_params = DEFAULT_EMISSIONS_PARAMS\n",
    "\n",
    "print(\"Emissions Parameters:\")\n",
    "print(f\"  Road freight: {emissions_params['road_freight_gco2e_per_km']} g CO2e/km per truck\")\n",
    "print(f\"  Air fraction: {emissions_params['air_freight_fraction']*100:.0f}%\")"
   ]
  },
  {
   "cell_type": "code",
   "execution_count": null,
   "metadata": {},
   "outputs": [],
   "source": [
    "# Calculate emissions\n",
    "emissions_data = []\n",
    "\n",
    "for leg in legs:\n",
    "    emissions = calculate_leg_emissions(leg, params['num_trucks'], emissions_params)\n",
    "    emissions_data.append({\n",
    "        'leg_name': leg.leg_name,\n",
    "        'distance_km': leg.distance_km,\n",
    "        'co2e_tonnes': emissions.total_co2e_kg / 1000  # Convert to tonnes\n",
    "    })\n",
    "\n",
    "df_emissions = pd.DataFrame(emissions_data)\n",
    "\n",
    "total_emissions = df_emissions['co2e_tonnes'].sum()\n",
    "print(f\"\\nTotal 2019 Season Emissions: {total_emissions:.2f} tonnes CO2e\")"
   ]
  },
  {
   "cell_type": "code",
   "execution_count": null,
   "metadata": {},
   "outputs": [],
   "source": [
    "# Emissions by leg\n",
    "plt.figure(figsize=(12, 6))\n",
    "plt.bar(range(len(df_emissions)), df_emissions['co2e_tonnes'], color='#ff6b6b', alpha=0.7, edgecolor='black')\n",
    "plt.xlabel('Leg Number')\n",
    "plt.ylabel('Emissions (tonnes CO2e)')\n",
    "plt.title('CO2e Emissions by Leg')\n",
    "plt.grid(True, alpha=0.3, axis='y')\n",
    "plt.tight_layout()\n",
    "plt.show()"
   ]
  },
  {
   "cell_type": "markdown",
   "metadata": {},
   "source": [
    "## 8. Cost per Tonne CO2e"
   ]
  },
  {
   "cell_type": "code",
   "execution_count": null,
   "metadata": {},
   "outputs": [],
   "source": [
    "cost_per_tonne_co2e = total_cost / total_emissions\n",
    "\n",
    "print(f\"Cost efficiency: €{cost_per_tonne_co2e:,.2f} per tonne CO2e\")\n",
    "print(f\"\\nInterpretation: Each euro spent results in {1/cost_per_tonne_co2e*1000:.2f} kg CO2e emissions\")"
   ]
  },
  {
   "cell_type": "markdown",
   "metadata": {},
   "source": [
    "## Summary\n",
    "\n",
    "This notebook demonstrated:\n",
    "- Multi-component cost modeling (fuel, labor, tolls, fixed)\n",
    "- Cost distribution analysis across the season\n",
    "- Strong correlation between distance and cost\n",
    "- CO2e emissions calculations for road freight\n",
    "- Cost-emissions efficiency metrics\n",
    "\n",
    "**Key Findings**:\n",
    "- Labor typically dominates cost structure (due to dual-driver requirements)\n",
    "- Fixed costs become more significant for shorter legs\n",
    "- Emissions scale linearly with distance for road freight\n",
    "\n",
    "**Next**: Fleet optimization strategies"
   ]
  }
 ],
 "metadata": {
  "kernelspec": {
   "display_name": "Python 3 (ipykernel)",
   "language": "python",
   "name": "python3"
  },
  "language_info": {
   "codemirror_mode": {
    "name": "ipython",
    "version": 3
   },
   "file_extension": ".py",
   "mimetype": "text/x-python",
   "name": "python",
   "nbconvert_exporter": "python",
   "pygments_lexer": "ipython3",
   "version": "3.8.0"
  }
 },
 "nbformat": 4,
 "nbformat_minor": 4
}
