{
 "cells": [
  {
   "cell_type": "markdown",
   "metadata": {},
   "source": [
    "# F1Ops Data Ingestion & Exploration\n",
    "\n",
    "This notebook demonstrates loading and exploring F1 calendar data for the European season.\n",
    "\n",
    "**Version**: 0.1 (Feb 2020)\n",
    "**Data**: 2010-2019 seasons"
   ]
  },
  {
   "cell_type": "code",
   "execution_count": null,
   "metadata": {},
   "outputs": [],
   "source": [
    "import sys\n",
    "sys.path.insert(0, '../src')\n",
    "\n",
    "import pandas as pd\n",
    "import numpy as np\n",
    "import matplotlib.pyplot as plt\n",
    "import seaborn as sns\n",
    "\n",
    "from f1ops.data_loader import get_available_seasons, get_european_races, load_circuits\n",
    "from f1ops.config import EUROPEAN_COUNTRIES\n",
    "\n",
    "%matplotlib inline\n",
    "sns.set_style('whitegrid')"
   ]
  },
  {
   "cell_type": "markdown",
   "metadata": {},
   "source": [
    "## 1. Load Available Seasons"
   ]
  },
  {
   "cell_type": "code",
   "execution_count": null,
   "metadata": {},
   "outputs": [],
   "source": [
    "seasons = get_available_seasons()\n",
    "print(f\"Available seasons: {seasons}\")\n",
    "print(f\"Total seasons: {len(seasons)}\")"
   ]
  },
  {
   "cell_type": "markdown",
   "metadata": {},
   "source": [
    "## 2. Load Circuits Database"
   ]
  },
  {
   "cell_type": "code",
   "execution_count": null,
   "metadata": {},
   "outputs": [],
   "source": [
    "circuits_df = load_circuits()\n",
    "print(f\"Total European circuits: {len(circuits_df)}\")\n",
    "circuits_df.head(10)"
   ]
  },
  {
   "cell_type": "markdown",
   "metadata": {},
   "source": [
    "## 3. Analyze a Sample Season (2019)"
   ]
  },
  {
   "cell_type": "code",
   "execution_count": null,
   "metadata": {},
   "outputs": [],
   "source": [
    "races_2019 = get_european_races(2019)\n",
    "print(f\"European races in 2019: {len(races_2019)}\")\n",
    "\n",
    "# Convert to DataFrame for analysis\n",
    "races_data = []\n",
    "for race in races_2019:\n",
    "    races_data.append({\n",
    "        'round': race.round,\n",
    "        'race_name': race.race_name,\n",
    "        'circuit': race.circuit.name,\n",
    "        'city': race.circuit.city,\n",
    "        'country': race.circuit.country,\n",
    "        'date': race.race_date,\n",
    "        'latitude': race.circuit.latitude,\n",
    "        'longitude': race.circuit.longitude\n",
    "    })\n",
    "\n",
    "df_2019 = pd.DataFrame(races_data)\n",
    "df_2019"
   ]
  },
  {
   "cell_type": "markdown",
   "metadata": {},
   "source": [
    "## 4. Geographic Distribution"
   ]
  },
  {
   "cell_type": "code",
   "execution_count": null,
   "metadata": {},
   "outputs": [],
   "source": [
    "# Plot circuits on a simple scatter plot\n",
    "plt.figure(figsize=(12, 8))\n",
    "plt.scatter(circuits_df['longitude'], circuits_df['latitude'], s=100, alpha=0.6)\n",
    "\n",
    "for idx, row in circuits_df.iterrows():\n",
    "    plt.annotate(row['city'], (row['longitude'], row['latitude']), \n",
    "                fontsize=8, xytext=(5, 5), textcoords='offset points')\n",
    "\n",
    "plt.xlabel('Longitude')\n",
    "plt.ylabel('Latitude')\n",
    "plt.title('European F1 Circuits Distribution')\n",
    "plt.grid(True, alpha=0.3)\n",
    "plt.show()"
   ]
  },
  {
   "cell_type": "markdown",
   "metadata": {},
   "source": [
    "## 5. Races by Country"
   ]
  },
  {
   "cell_type": "code",
   "execution_count": null,
   "metadata": {},
   "outputs": [],
   "source": [
    "country_counts = df_2019['country'].value_counts()\n",
    "\n",
    "plt.figure(figsize=(10, 6))\n",
    "country_counts.plot(kind='bar')\n",
    "plt.title('2019 European Races by Country')\n",
    "plt.xlabel('Country')\n",
    "plt.ylabel('Number of Races')\n",
    "plt.xticks(rotation=45, ha='right')\n",
    "plt.tight_layout()\n",
    "plt.show()"
   ]
  },
  {
   "cell_type": "markdown",
   "metadata": {},
   "source": [
    "## 6. Seasonal Patterns Across Years"
   ]
  },
  {
   "cell_type": "code",
   "execution_count": null,
   "metadata": {},
   "outputs": [],
   "source": [
    "# Analyze number of European races per year\n",
    "races_per_year = {}\n",
    "for season in seasons:\n",
    "    races = get_european_races(season)\n",
    "    races_per_year[season] = len(races)\n",
    "\n",
    "plt.figure(figsize=(12, 6))\n",
    "plt.plot(list(races_per_year.keys()), list(races_per_year.values()), \n",
    "         marker='o', linewidth=2, markersize=8)\n",
    "plt.xlabel('Season')\n",
    "plt.ylabel('Number of European Races')\n",
    "plt.title('European F1 Races Per Season (2010-2019)')\n",
    "plt.grid(True, alpha=0.3)\n",
    "plt.xticks(seasons, rotation=45)\n",
    "plt.tight_layout()\n",
    "plt.show()"
   ]
  },
  {
   "cell_type": "markdown",
   "metadata": {},
   "source": [
    "## Summary\n",
    "\n",
    "This notebook demonstrated:\n",
    "- Loading F1 calendar data for 2010-2019\n",
    "- Exploring European circuits distribution\n",
    "- Analyzing seasonal patterns\n",
    "- Basic data quality checks\n",
    "\n",
    "**Next**: Route estimation and distance calculations"
   ]
  }
 ],
 "metadata": {
  "kernelspec": {
   "display_name": "Python 3",
   "language": "python",
   "name": "python3"
  },
  "language_info": {
   "codemirror_mode": {
    "name": "ipython",
    "version": 3
   },
   "file_extension": ".py",
   "mimetype": "text/x-python",
   "name": "python",
   "nbconvert_exporter": "python",
   "pygments_lexer": "ipython3",
   "version": "3.8.0"
  }
 },
 "nbformat": 4,
 "nbformat_minor": 4
}
