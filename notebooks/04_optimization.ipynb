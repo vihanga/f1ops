{
 "cells": [
  {
   "cell_type": "markdown",
   "metadata": {},
   "source": [
    "# F1Ops Fleet Optimization\n",
    "\n",
    "This notebook explores fleet allocation strategies for F1 team logistics using greedy heuristics.\n",
    "\n",
    "**Version**: 0.1 (Feb 2020)\n",
    "**Method**: Greedy allocation algorithm"
   ]
  },
  {
   "cell_type": "code",
   "execution_count": null,
   "metadata": {},
   "outputs": [],
   "source": [
    "import sys\n",
    "sys.path.insert(0, '../src')\n",
    "\n",
    "import pandas as pd\n",
    "import numpy as np\n",
    "import matplotlib.pyplot as plt\n",
    "import seaborn as sns\n",
    "\n",
    "from f1ops.data_loader import get_european_races\n",
    "from f1ops.geo import build_season_legs\n",
    "from f1ops.cost import calculate_leg_cost\n",
    "from f1ops.optimize import greedy_truck_allocation, optimize_fleet_allocation\n",
    "from f1ops.config import DEFAULT_COST_PARAMS\n",
    "\n",
    "%matplotlib inline\n",
    "sns.set_style('whitegrid')"
   ]
  },
  {
   "cell_type": "markdown",
   "metadata": {},
   "source": [
    "## 1. Problem Definition\n",
    "\n",
    "**Fleet Allocation Problem**:\n",
    "- F1 teams transport 40+ tonnes of equipment per race\n",
    "- Fleet of trucks with limited capacity\n",
    "- Must allocate loads to minimize costs\n",
    "\n",
    "**Constraints**:\n",
    "- Each truck has a capacity limit (typically 20-25 tonnes)\n",
    "- All equipment must be transported\n",
    "- Trucks travel together (convoy logistics)\n",
    "\n",
    "**Objective**: Minimize total operational cost"
   ]
  },
  {
   "cell_type": "markdown",
   "metadata": {},
   "source": [
    "## 2. Load Season Data"
   ]
  },
  {
   "cell_type": "code",
   "execution_count": null,
   "metadata": {},
   "outputs": [],
   "source": [
    "races_2019 = get_european_races(2019)\n",
    "legs = build_season_legs(races_2019)\n",
    "\n",
    "print(f\"Loaded {len(races_2019)} races, {len(legs)} legs\")"
   ]
  },
  {
   "cell_type": "markdown",
   "metadata": {},
   "source": [
    "## 3. Greedy Allocation Algorithm\n",
    "\n",
    "**Algorithm**: First-Fit Decreasing (FFD)\n",
    "1. Sort items by weight (descending)\n",
    "2. For each item:\n",
    "   - Try to fit in first available truck\n",
    "   - If no truck has capacity, fail\n",
    "\n",
    "**Properties**:\n",
    "- Fast: O(n log n) complexity\n",
    "- Simple to implement\n",
    "- Approximation ratio: ≤ 11/9 OPT + 6/9"
   ]
  },
  {
   "cell_type": "code",
   "execution_count": null,
   "metadata": {},
   "outputs": [],
   "source": [
    "# Define cargo items (example for one race)\n",
    "cargo_items = [\n",
    "    {\"name\": \"Garage Equipment\", \"weight_kg\": 8000},\n",
    "    {\"name\": \"Spare Parts\", \"weight_kg\": 6000},\n",
    "    {\"name\": \"Tools & Machinery\", \"weight_kg\": 5000},\n",
    "    {\"name\": \"Pit Equipment\", \"weight_kg\": 4500},\n",
    "    {\"name\": \"Hospitality\", \"weight_kg\": 7000},\n",
    "    {\"name\": \"Electronics\", \"weight_kg\": 3000},\n",
    "    {\"name\": \"Tyres\", \"weight_kg\": 4000},\n",
    "    {\"name\": \"Fuel & Fluids\", \"weight_kg\": 2500},\n",
    "]\n",
    "\n",
    "total_cargo = sum(item[\"weight_kg\"] for item in cargo_items)\n",
    "print(f\"Total cargo weight: {total_cargo:,} kg ({total_cargo/1000:.1f} tonnes)\")"
   ]
  },
  {
   "cell_type": "code",
   "execution_count": null,
   "metadata": {},
   "outputs": [],
   "source": [
    "# Fleet configuration\n",
    "num_trucks = 8\n",
    "truck_capacity_kg = 20000  # 20 tonnes per truck\n",
    "\n",
    "print(f\"Fleet configuration:\")\n",
    "print(f\"  Number of trucks: {num_trucks}\")\n",
    "print(f\"  Capacity per truck: {truck_capacity_kg:,} kg ({truck_capacity_kg/1000:.0f} tonnes)\")\n",
    "print(f\"  Total fleet capacity: {num_trucks * truck_capacity_kg:,} kg ({num_trucks * truck_capacity_kg/1000:.0f} tonnes)\")\n",
    "print(f\"\\nUtilization: {total_cargo / (num_trucks * truck_capacity_kg) * 100:.1f}%\")"
   ]
  },
  {
   "cell_type": "code",
   "execution_count": null,
   "metadata": {},
   "outputs": [],
   "source": [
    "# Run greedy allocation\n",
    "allocation = greedy_truck_allocation(cargo_items, num_trucks, truck_capacity_kg)\n",
    "\n",
    "print(\"Allocation Results:\\n\")\n",
    "for truck_id, items in allocation.items():\n",
    "    truck_load = sum(item[\"weight_kg\"] for item in items)\n",
    "    utilization = truck_load / truck_capacity_kg * 100\n",
    "    print(f\"Truck {truck_id}:\")\n",
    "    print(f\"  Load: {truck_load:>6,} kg ({utilization:5.1f}% capacity)\")\n",
    "    print(f\"  Items: {', '.join(item['name'] for item in items)}\")\n",
    "    print()"
   ]
  },
  {
   "cell_type": "markdown",
   "metadata": {},
   "source": [
    "## 4. Visualize Allocation"
   ]
  },
  {
   "cell_type": "code",
   "execution_count": null,
   "metadata": {},
   "outputs": [],
   "source": [
    "# Prepare data for visualization\n",
    "truck_loads = []\n",
    "for truck_id in range(1, num_trucks + 1):\n",
    "    items = allocation.get(truck_id, [])\n",
    "    load = sum(item[\"weight_kg\"] for item in items)\n",
    "    truck_loads.append(load)\n",
    "\n",
    "# Bar chart of truck loads\n",
    "fig, ax = plt.subplots(figsize=(12, 6))\n",
    "\n",
    "x = np.arange(1, num_trucks + 1)\n",
    "bars = ax.bar(x, truck_loads, color='#4a90e2', alpha=0.7, edgecolor='black', linewidth=1.5)\n",
    "ax.axhline(truck_capacity_kg, color='red', linestyle='--', linewidth=2, label=f'Capacity: {truck_capacity_kg:,} kg')\n",
    "\n",
    "# Add utilization percentages on bars\n",
    "for i, (bar, load) in enumerate(zip(bars, truck_loads)):\n",
    "    utilization = load / truck_capacity_kg * 100\n",
    "    height = bar.get_height()\n",
    "    ax.text(bar.get_x() + bar.get_width()/2., height + 500,\n",
    "            f'{utilization:.1f}%',\n",
    "            ha='center', va='bottom', fontweight='bold')\n",
    "\n",
    "ax.set_xlabel('Truck Number', fontsize=12)\n",
    "ax.set_ylabel('Load (kg)', fontsize=12)\n",
    "ax.set_title('Greedy Allocation - Truck Loads', fontsize=14, fontweight='bold')\n",
    "ax.set_xticks(x)\n",
    "ax.legend()\n",
    "ax.grid(True, alpha=0.3, axis='y')\n",
    "\n",
    "plt.tight_layout()\n",
    "plt.show()"
   ]
  },
  {
   "cell_type": "markdown",
   "metadata": {},
   "source": [
    "## 5. Fleet Size Optimization"
   ]
  },
  {
   "cell_type": "code",
   "execution_count": null,
   "metadata": {},
   "outputs": [],
   "source": [
    "# Test different fleet sizes\n",
    "min_trucks = int(np.ceil(total_cargo / truck_capacity_kg))\n",
    "max_trucks = 12\n",
    "\n",
    "fleet_analysis = []\n",
    "\n",
    "for n in range(min_trucks, max_trucks + 1):\n",
    "    try:\n",
    "        alloc = greedy_truck_allocation(cargo_items, n, truck_capacity_kg)\n",
    "        \n",
    "        # Calculate average utilization\n",
    "        total_load = sum(sum(item[\"weight_kg\"] for item in items) for items in alloc.values())\n",
    "        avg_utilization = total_load / (n * truck_capacity_kg) * 100\n",
    "        \n",
    "        fleet_analysis.append({\n",
    "            'num_trucks': n,\n",
    "            'avg_utilization': avg_utilization,\n",
    "            'feasible': True\n",
    "        })\n",
    "    except ValueError:\n",
    "        fleet_analysis.append({\n",
    "            'num_trucks': n,\n",
    "            'avg_utilization': 0,\n",
    "            'feasible': False\n",
    "        })\n",
    "\n",
    "df_fleet = pd.DataFrame(fleet_analysis)\n",
    "df_fleet"
   ]
  },
  {
   "cell_type": "code",
   "execution_count": null,
   "metadata": {},
   "outputs": [],
   "source": [
    "# Plot fleet size vs utilization\n",
    "feasible_fleets = df_fleet[df_fleet['feasible']]\n",
    "\n",
    "plt.figure(figsize=(10, 6))\n",
    "plt.plot(feasible_fleets['num_trucks'], feasible_fleets['avg_utilization'], \n",
    "         marker='o', linewidth=2, markersize=10, color='#2ecc71')\n",
    "plt.axhline(80, color='orange', linestyle='--', label='Target: 80% utilization')\n",
    "plt.xlabel('Number of Trucks')\n",
    "plt.ylabel('Average Utilization (%)')\n",
    "plt.title('Fleet Size vs Average Utilization')\n",
    "plt.grid(True, alpha=0.3)\n",
    "plt.legend()\n",
    "plt.tight_layout()\n",
    "plt.show()"
   ]
  },
  {
   "cell_type": "markdown",
   "metadata": {},
   "source": [
    "## 6. Cost Impact of Fleet Size"
   ]
  },
  {
   "cell_type": "code",
   "execution_count": null,
   "metadata": {},
   "outputs": [],
   "source": [
    "# Calculate cost for different fleet sizes using first leg as example\n",
    "example_leg = legs[0]\n",
    "params = DEFAULT_COST_PARAMS.copy()\n",
    "\n",
    "cost_analysis = []\n",
    "\n",
    "for n in feasible_fleets['num_trucks']:\n",
    "    params['num_trucks'] = n\n",
    "    cost = calculate_leg_cost(example_leg, params)\n",
    "    cost_analysis.append({\n",
    "        'num_trucks': n,\n",
    "        'total_cost': cost.total_cost_eur,\n",
    "        'cost_per_truck': cost.total_cost_eur / n\n",
    "    })\n",
    "\n",
    "df_cost = pd.DataFrame(cost_analysis)\n",
    "\n",
    "# Plot\n",
    "fig, (ax1, ax2) = plt.subplots(1, 2, figsize=(14, 5))\n",
    "\n",
    "ax1.plot(df_cost['num_trucks'], df_cost['total_cost'], marker='o', linewidth=2, markersize=8, color='#e74c3c')\n",
    "ax1.set_xlabel('Number of Trucks')\n",
    "ax1.set_ylabel('Total Cost (EUR)')\n",
    "ax1.set_title('Total Cost vs Fleet Size')\n",
    "ax1.grid(True, alpha=0.3)\n",
    "\n",
    "ax2.plot(df_cost['num_trucks'], df_cost['cost_per_truck'], marker='s', linewidth=2, markersize=8, color='#9b59b6')\n",
    "ax2.set_xlabel('Number of Trucks')\n",
    "ax2.set_ylabel('Cost per Truck (EUR)')\n",
    "ax2.set_title('Cost per Truck vs Fleet Size')\n",
    "ax2.grid(True, alpha=0.3)\n",
    "\n",
    "plt.tight_layout()\n",
    "plt.show()\n",
    "\n",
    "print(f\"Example leg: {example_leg.leg_name}\")\n",
    "print(f\"Distance: {example_leg.distance_km:.2f} km\\n\")\n",
    "print(df_cost.to_string(index=False))"
   ]
  },
  {
   "cell_type": "markdown",
   "metadata": {},
   "source": [
    "## 7. Limitations of Greedy Approach\n",
    "\n",
    "**Advantages**:\n",
    "- Fast execution (< 1ms for typical problems)\n",
    "- Simple to understand and implement\n",
    "- Reasonable solutions for most cases\n",
    "\n",
    "**Limitations**:\n",
    "- Not guaranteed to find optimal solution\n",
    "- Can leave \"gaps\" in truck utilization\n",
    "- Doesn't consider time windows or routing constraints\n",
    "- No look-ahead or backtracking\n",
    "\n",
    "**Future Improvements** (v0.4+):\n",
    "- Google OR-Tools for optimal VRP solutions\n",
    "- Capacitated Vehicle Routing Problem (CVRP)\n",
    "- Time Windows (VRPTW)\n",
    "- Multi-depot routing"
   ]
  },
  {
   "cell_type": "markdown",
   "metadata": {},
   "source": [
    "## Summary\n",
    "\n",
    "This notebook demonstrated:\n",
    "- Fleet allocation problem formulation\n",
    "- Greedy First-Fit Decreasing algorithm\n",
    "- Visualization of truck load distribution\n",
    "- Fleet size optimization analysis\n",
    "- Cost impact of fleet sizing decisions\n",
    "\n",
    "**Key Findings**:\n",
    "- Minimum fleet size: 3 trucks (for 40 tonnes @ 20t capacity)\n",
    "- Optimal fleet size: 3-4 trucks (balance of cost and utilization)\n",
    "- Larger fleets increase total cost but provide redundancy\n",
    "- Total cost scales linearly with fleet size\n",
    "\n",
    "**Next**: Interactive visualization dashboard"
   ]
  }
 ],
 "metadata": {
  "kernelspec": {
   "display_name": "Python 3",
   "language": "python",
   "name": "python3"
  },
  "language_info": {
   "codemirror_mode": {
    "name": "ipython",
    "version": 3
   },
   "file_extension": ".py",
   "mimetype": "text/x-python",
   "name": "python",
   "nbconvert_exporter": "python",
   "pygments_lexer": "ipython3",
   "version": "3.8.0"
  }
 },
 "nbformat": 4,
 "nbformat_minor": 4
}
