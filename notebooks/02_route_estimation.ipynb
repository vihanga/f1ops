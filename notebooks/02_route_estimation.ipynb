{
 "cells": [
  {
   "cell_type": "markdown",
   "metadata": {},
   "source": [
    "# F1Ops Route Estimation\n",
    "\n",
    "This notebook demonstrates route estimation between European F1 circuits using the Haversine formula.\n",
    "\n",
    "**Version**: 0.1 (Feb 2020)\n",
    "**Method**: Great-circle distance calculation"
   ]
  },
  {
   "cell_type": "code",
   "execution_count": null,
   "metadata": {},
   "outputs": [],
   "source": [
    "import sys\n",
    "sys.path.insert(0, '../src')\n",
    "\n",
    "import pandas as pd\n",
    "import numpy as np\n",
    "import matplotlib.pyplot as plt\n",
    "import seaborn as sns\n",
    "\n",
    "from f1ops.data_loader import get_european_races\n",
    "from f1ops.geo import calculate_leg_distance, build_season_legs\n",
    "\n",
    "%matplotlib inline\n",
    "sns.set_style('whitegrid')"
   ]
  },
  {
   "cell_type": "markdown",
   "metadata": {},
   "source": [
    "## 1. Haversine Distance Formula\n",
    "\n",
    "The Haversine formula calculates the great-circle distance between two points on a sphere given their longitudes and latitudes:\n",
    "\n",
    "$$\n",
    "a = \\sin^2\\left(\\frac{\\Delta\\phi}{2}\\right) + \\cos(\\phi_1) \\cdot \\cos(\\phi_2) \\cdot \\sin^2\\left(\\frac{\\Delta\\lambda}{2}\\right)\n",
    "$$\n",
    "\n",
    "$$\n",
    "c = 2 \\cdot \\arctan2\\left(\\sqrt{a}, \\sqrt{1-a}\\right)\n",
    "$$\n",
    "\n",
    "$$\n",
    "d = R \\cdot c\n",
    "$$\n",
    "\n",
    "Where:\n",
    "- φ is latitude, λ is longitude\n",
    "- R is Earth's radius (≈6371 km)"
   ]
  },
  {
   "cell_type": "markdown",
   "metadata": {},
   "source": [
    "## 2. Load 2019 Season Races"
   ]
  },
  {
   "cell_type": "code",
   "execution_count": null,
   "metadata": {},
   "outputs": [],
   "source": [
    "races_2019 = get_european_races(2019)\n",
    "print(f\"Loaded {len(races_2019)} European races for 2019\\n\")\n",
    "\n",
    "# Display race sequence\n",
    "for race in races_2019:\n",
    "    print(f\"Round {race.round:2d}: {race.race_name:30s} | {race.circuit.city:15s}, {race.circuit.country}\")"
   ]
  },
  {
   "cell_type": "markdown",
   "metadata": {},
   "source": [
    "## 3. Calculate Legs Between Consecutive Races"
   ]
  },
  {
   "cell_type": "code",
   "execution_count": null,
   "metadata": {},
   "outputs": [],
   "source": [
    "legs = build_season_legs(races_2019)\n",
    "\n",
    "print(f\"Total legs: {len(legs)}\\n\")\n",
    "print(f\"{'Leg':<5} {'From → To':<45} {'Distance (km)':<15}\")\n",
    "print(\"-\" * 65)\n",
    "\n",
    "for idx, leg in enumerate(legs):\n",
    "    print(f\"{idx+1:<5} {leg.leg_name:<45} {leg.distance_km:>10.2f}\")"
   ]
  },
  {
   "cell_type": "markdown",
   "metadata": {},
   "source": [
    "## 4. Distance Distribution Analysis"
   ]
  },
  {
   "cell_type": "code",
   "execution_count": null,
   "metadata": {},
   "outputs": [],
   "source": [
    "distances = [leg.distance_km for leg in legs]\n",
    "\n",
    "# Summary statistics\n",
    "print(\"Distance Statistics (km):\")\n",
    "print(f\"  Total:   {sum(distances):>10.2f}\")\n",
    "print(f\"  Mean:    {np.mean(distances):>10.2f}\")\n",
    "print(f\"  Median:  {np.median(distances):>10.2f}\")\n",
    "print(f\"  Std Dev: {np.std(distances):>10.2f}\")\n",
    "print(f\"  Min:     {min(distances):>10.2f}\")\n",
    "print(f\"  Max:     {max(distances):>10.2f}\")"
   ]
  },
  {
   "cell_type": "code",
   "execution_count": null,
   "metadata": {},
   "outputs": [],
   "source": [
    "# Distribution plot\n",
    "fig, axes = plt.subplots(1, 2, figsize=(14, 5))\n",
    "\n",
    "# Histogram\n",
    "axes[0].hist(distances, bins=10, edgecolor='black', alpha=0.7)\n",
    "axes[0].axvline(np.mean(distances), color='red', linestyle='--', label=f'Mean: {np.mean(distances):.0f} km')\n",
    "axes[0].axvline(np.median(distances), color='green', linestyle='--', label=f'Median: {np.median(distances):.0f} km')\n",
    "axes[0].set_xlabel('Distance (km)')\n",
    "axes[0].set_ylabel('Frequency')\n",
    "axes[0].set_title('Distance Distribution')\n",
    "axes[0].legend()\n",
    "axes[0].grid(True, alpha=0.3)\n",
    "\n",
    "# Box plot\n",
    "axes[1].boxplot(distances, vert=True)\n",
    "axes[1].set_ylabel('Distance (km)')\n",
    "axes[1].set_title('Distance Box Plot')\n",
    "axes[1].grid(True, alpha=0.3, axis='y')\n",
    "\n",
    "plt.tight_layout()\n",
    "plt.show()"
   ]
  },
  {
   "cell_type": "markdown",
   "metadata": {},
   "source": [
    "## 5. Longest and Shortest Legs"
   ]
  },
  {
   "cell_type": "code",
   "execution_count": null,
   "metadata": {},
   "outputs": [],
   "source": [
    "# Sort by distance\n",
    "sorted_legs = sorted(legs, key=lambda x: x.distance_km, reverse=True)\n",
    "\n",
    "print(\"Top 5 Longest Legs:\")\n",
    "for idx, leg in enumerate(sorted_legs[:5], 1):\n",
    "    print(f\"  {idx}. {leg.leg_name:<45} {leg.distance_km:>10.2f} km\")\n",
    "\n",
    "print(\"\\nTop 5 Shortest Legs:\")\n",
    "for idx, leg in enumerate(reversed(sorted_legs[-5:]), 1):\n",
    "    print(f\"  {idx}. {leg.leg_name:<45} {leg.distance_km:>10.2f} km\")"
   ]
  },
  {
   "cell_type": "markdown",
   "metadata": {},
   "source": [
    "## 6. Cumulative Distance Through Season"
   ]
  },
  {
   "cell_type": "code",
   "execution_count": null,
   "metadata": {},
   "outputs": [],
   "source": [
    "cumulative = np.cumsum([leg.distance_km for leg in legs])\n",
    "\n",
    "plt.figure(figsize=(12, 6))\n",
    "plt.plot(range(1, len(cumulative) + 1), cumulative, marker='o', linewidth=2, markersize=8)\n",
    "plt.xlabel('Leg Number')\n",
    "plt.ylabel('Cumulative Distance (km)')\n",
    "plt.title('Cumulative Travel Distance Through 2019 Season')\n",
    "plt.grid(True, alpha=0.3)\n",
    "plt.tight_layout()\n",
    "plt.show()\n",
    "\n",
    "print(f\"Total season travel distance: {cumulative[-1]:,.0f} km\")"
   ]
  },
  {
   "cell_type": "markdown",
   "metadata": {},
   "source": [
    "## 7. Haversine vs Road Distance\n",
    "\n",
    "The Haversine formula provides a lower bound (straight-line distance). Actual road distances are typically 20-40% longer due to:\n",
    "- Road network topology\n",
    "- Geographic barriers (mountains, water)\n",
    "- Border crossings\n",
    "- Routing efficiency"
   ]
  },
  {
   "cell_type": "code",
   "execution_count": null,
   "metadata": {},
   "outputs": [],
   "source": [
    "# Apply estimated road distance multiplier\n",
    "road_multiplier = 1.3  # Conservative estimate\n",
    "\n",
    "haversine_total = sum(distances)\n",
    "estimated_road_total = haversine_total * road_multiplier\n",
    "\n",
    "print(f\"Haversine (straight-line) total: {haversine_total:>10,.0f} km\")\n",
    "print(f\"Estimated road distance total:   {estimated_road_total:>10,.0f} km\")\n",
    "print(f\"Difference:                      {estimated_road_total - haversine_total:>10,.0f} km ({(road_multiplier-1)*100:.0f}%)\")"
   ]
  },
  {
   "cell_type": "markdown",
   "metadata": {},
   "source": [
    "## Summary\n",
    "\n",
    "This notebook demonstrated:\n",
    "- Haversine distance calculations between F1 circuits\n",
    "- Distance distribution analysis for 2019 season\n",
    "- Identification of longest/shortest legs\n",
    "- Limitations of great-circle distance vs actual road routing\n",
    "\n",
    "**Next**: Cost and emissions modeling based on these distances"
   ]
  }
 ],
 "metadata": {
  "kernelspec": {
   "display_name": "Python 3",
   "language": "python",
   "name": "python3"
  },
  "language_info": {
   "codemirror_mode": {
    "name": "ipython",
    "version": 3
   },
   "file_extension": ".py",
   "mimetype": "text/x-python",
   "name": "python",
   "nbconvert_exporter": "python",
   "pygments_lexer": "ipython3",
   "version": "3.8.0"
  }
 },
 "nbformat": 4,
 "nbformat_minor": 4
}
